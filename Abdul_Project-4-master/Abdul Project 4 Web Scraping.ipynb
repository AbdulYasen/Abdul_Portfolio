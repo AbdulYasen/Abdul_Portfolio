{
 "cells": [
  {
   "cell_type": "markdown",
   "metadata": {},
   "source": [
    "# Business Case Overview"
   ]
  },
  {
   "cell_type": "markdown",
   "metadata": {},
   "source": [
    "1. Determine the industry factors that are most important in predicting the salary amounts for these data.\n",
    "2. Determine the factors that distinguish job categories and titles from each other. For example, can required skills accurately predict job title?\n",
    "\n",
    "To limit the scope, your principal has suggested that you focus on data-related job postings, e.g. data scientist, data analyst, research scientist, business intelligence, and any others you might think of. You may also want to decrease the scope by limiting your search to a single region.\n",
    "\n"
   ]
  },
  {
   "cell_type": "markdown",
   "metadata": {},
   "source": [
    "Goal: Scrape your own data from a job aggregation tool like www.seek.com.au in order to collect the data to best answer these two questions\n",
    "\n",
    "### Directions\n",
    "In this project you will be leveraging a variety of skills. The first will be to use the web-scraping and/or API techniques you've learned to collect data on data jobs from Indeed.com or another aggregator. Once you have collected and cleaned the data, you will use it to answer the two questions described above."
   ]
  },
  {
   "cell_type": "markdown",
   "metadata": {},
   "source": [
    "# 2. Use urllib and BeautifulSoup to read the contents of the HTML.\n"
   ]
  },
  {
   "cell_type": "markdown",
   "metadata": {},
   "source": [
    "I chose to scrape the data from seek.com.au, a Australia based generalist careers site. I use BeautifulSoup to retrieve all the URLs associated with the different job postings using the code indicated below. This was then cleaned to obtain a list containing all the relevant URLs which could then be accessed individually to obtain the jobs data."
   ]
  },
  {
   "cell_type": "code",
   "execution_count": 17,
   "metadata": {},
   "outputs": [
    {
     "name": "stderr",
     "output_type": "stream",
     "text": [
      "100%|██████████| 119/119 [00:59<00:00,  2.01it/s]\n"
     ]
    },
    {
     "data": {
      "text/html": [
       "<div>\n",
       "<style scoped>\n",
       "    .dataframe tbody tr th:only-of-type {\n",
       "        vertical-align: middle;\n",
       "    }\n",
       "\n",
       "    .dataframe tbody tr th {\n",
       "        vertical-align: top;\n",
       "    }\n",
       "\n",
       "    .dataframe thead th {\n",
       "        text-align: right;\n",
       "    }\n",
       "</style>\n",
       "<table border=\"1\" class=\"dataframe\">\n",
       "  <thead>\n",
       "    <tr style=\"text-align: right;\">\n",
       "      <th></th>\n",
       "      <th>0</th>\n",
       "    </tr>\n",
       "  </thead>\n",
       "  <tbody>\n",
       "    <tr>\n",
       "      <td>0</td>\n",
       "      <td>/job/41347509?type=promoted#searchRequestToken...</td>\n",
       "    </tr>\n",
       "    <tr>\n",
       "      <td>1</td>\n",
       "      <td>/job/41353676?type=promoted#searchRequestToken...</td>\n",
       "    </tr>\n",
       "    <tr>\n",
       "      <td>2</td>\n",
       "      <td>/job/41358893?type=standout#searchRequestToken...</td>\n",
       "    </tr>\n",
       "    <tr>\n",
       "      <td>3</td>\n",
       "      <td>/job/41350834?type=standout#searchRequestToken...</td>\n",
       "    </tr>\n",
       "    <tr>\n",
       "      <td>4</td>\n",
       "      <td>/job/41351226?type=standard#searchRequestToken...</td>\n",
       "    </tr>\n",
       "    <tr>\n",
       "      <td>...</td>\n",
       "      <td>...</td>\n",
       "    </tr>\n",
       "    <tr>\n",
       "      <td>2611</td>\n",
       "      <td>/job/41343505?type=standard#searchRequestToken...</td>\n",
       "    </tr>\n",
       "    <tr>\n",
       "      <td>2612</td>\n",
       "      <td>/job/41357910?type=standout#searchRequestToken...</td>\n",
       "    </tr>\n",
       "    <tr>\n",
       "      <td>2613</td>\n",
       "      <td>/job/41348762?type=standout#searchRequestToken...</td>\n",
       "    </tr>\n",
       "    <tr>\n",
       "      <td>2614</td>\n",
       "      <td>/job/41315475?type=standout#searchRequestToken...</td>\n",
       "    </tr>\n",
       "    <tr>\n",
       "      <td>2615</td>\n",
       "      <td>/job/41355189?type=standard#searchRequestToken...</td>\n",
       "    </tr>\n",
       "  </tbody>\n",
       "</table>\n",
       "<p>2616 rows × 1 columns</p>\n",
       "</div>"
      ],
      "text/plain": [
       "                                                      0\n",
       "0     /job/41347509?type=promoted#searchRequestToken...\n",
       "1     /job/41353676?type=promoted#searchRequestToken...\n",
       "2     /job/41358893?type=standout#searchRequestToken...\n",
       "3     /job/41350834?type=standout#searchRequestToken...\n",
       "4     /job/41351226?type=standard#searchRequestToken...\n",
       "...                                                 ...\n",
       "2611  /job/41343505?type=standard#searchRequestToken...\n",
       "2612  /job/41357910?type=standout#searchRequestToken...\n",
       "2613  /job/41348762?type=standout#searchRequestToken...\n",
       "2614  /job/41315475?type=standout#searchRequestToken...\n",
       "2615  /job/41355189?type=standard#searchRequestToken...\n",
       "\n",
       "[2616 rows x 1 columns]"
      ]
     },
     "execution_count": 17,
     "metadata": {},
     "output_type": "execute_result"
    }
   ],
   "source": [
    "import urllib.request, urllib.parse, urllib.error\n",
    "import requests                   #Crawl and Fetch\n",
    "from bs4 import BeautifulSoup     #Parse and Extract\n",
    "import pandas as pd               #Load and Clean\n",
    "import lxml\n",
    "\n",
    "from tqdm import tqdm\n",
    "data = []\n",
    "job_links = []\n",
    "for i in tqdm(range(1,120)):\n",
    "\n",
    "    url_seek = 'https://www.seek.com.au/data-jobs/in-All-Sydney-NSW?'+'page=+i'\n",
    "    res_seek = requests.get(url_seek)\n",
    "\n",
    "    soup = BeautifulSoup(res_seek.content, 'lxml')\n",
    "\n",
    "    \n",
    "    titles = soup.find_all('article')\n",
    "    \n",
    "    \n",
    "    for title in titles:\n",
    "    \n",
    "        link = title.find('div')['href']\n",
    "    \n",
    "        job_links.append(link)\n",
    "        \n",
    "    \n",
    "    #for title in titles:\n",
    "        row = {}\n",
    "       \n",
    "        \n",
    "        row['job_title'] = title.find('h1').find('a').text\n",
    "        row['job_Salary'] = title.find_all('span', {'class': \"lwHBT6d\"})\n",
    "        row['job_Location'] = title.find_all('span')[14].text\n",
    "        row['job_Description'] = title.find_all('span',{'class': \"bl7UwXp\"})[0].text\n",
    "\n",
    "        data.append(row)\n",
    "df_seek = pd.DataFrame(job_links)\n",
    "df_data = pd.DataFrame(data)\n",
    "df_seek"
   ]
  },
  {
   "cell_type": "code",
   "execution_count": 18,
   "metadata": {},
   "outputs": [],
   "source": [
    "#<span class=\"_3FrNV7v _3PZrylH E6m4BZb\"><span class=\"lwHBT6d\">Full Time</span></span>\n",
    "#title.find_all('span', {'class':\"_3FrNV7v _3PZrylH E6m4BZb\"})[2].text\n",
    "\n",
    "\n"
   ]
  },
  {
   "cell_type": "code",
   "execution_count": 19,
   "metadata": {},
   "outputs": [],
   "source": [
    "#<span class=\"lwHBT6d\">$80k - $110k p.a.</span>\n",
    "\n",
    "#title.find_all_next('span')[15].text"
   ]
  },
  {
   "cell_type": "code",
   "execution_count": 20,
   "metadata": {},
   "outputs": [],
   "source": [
    "#title.find('span class=\"_3FrNV7v _3PZrylH E6m4BZb\"><span class=\"\"><span class=\"Eadjc1o\">at </span><a href=\"/Hearing-Australia-jobs\" rel=\"nofollow\" class=\"_3AMdmRg\" title=\"Jobs at Hearing Australia\" aria-label=\"Jobs at Hearing Australia\" data-automation=\"jobCompany\" target=\"_self\">Hearing Australia</a></span></span>')\n",
    "#<span data-automation=\"jobShortDescription\" class=\"_3FrNV7v xxz8a1h _2E1gs92 _3PZrylH E6m4BZb\"><span class=\"bl7UwXp\">Hearing Australia has an international reputation in the delivery of world’s best practice hearing rehabilitation services. Work with the best!</span></span>\n",
    "#title.find_all('span')[1].text\n"
   ]
  },
  {
   "cell_type": "code",
   "execution_count": 21,
   "metadata": {},
   "outputs": [],
   "source": [
    "#<span data-automation=\"jobShortDescription\" class=\"_3FrNV7v xxz8a1h _2E1gs92 _3PZrylH E6m4BZb\"><span class=\"bl7UwXp\">Hearing Australia has an international reputation in the delivery of world’s best practice hearing rehabilitation services. Work with the best!</span></span>\n",
    "\n",
    "#title.find_all('span',{'class': \"bl7UwXp\"})[0].text"
   ]
  },
  {
   "cell_type": "code",
   "execution_count": null,
   "metadata": {},
   "outputs": [],
   "source": []
  },
  {
   "cell_type": "code",
   "execution_count": 22,
   "metadata": {},
   "outputs": [
    {
     "data": {
      "text/plain": [
       "(2616, 1)"
      ]
     },
     "execution_count": 22,
     "metadata": {},
     "output_type": "execute_result"
    }
   ],
   "source": [
    "df_seek.shape"
   ]
  },
  {
   "cell_type": "code",
   "execution_count": 23,
   "metadata": {},
   "outputs": [
    {
     "data": {
      "text/html": [
       "<div>\n",
       "<style scoped>\n",
       "    .dataframe tbody tr th:only-of-type {\n",
       "        vertical-align: middle;\n",
       "    }\n",
       "\n",
       "    .dataframe tbody tr th {\n",
       "        vertical-align: top;\n",
       "    }\n",
       "\n",
       "    .dataframe thead th {\n",
       "        text-align: right;\n",
       "    }\n",
       "</style>\n",
       "<table border=\"1\" class=\"dataframe\">\n",
       "  <thead>\n",
       "    <tr style=\"text-align: right;\">\n",
       "      <th></th>\n",
       "      <th>job_title</th>\n",
       "      <th>job_Salary</th>\n",
       "      <th>job_Location</th>\n",
       "      <th>job_Description</th>\n",
       "    </tr>\n",
       "  </thead>\n",
       "  <tbody>\n",
       "    <tr>\n",
       "      <td>0</td>\n",
       "      <td>Senior Data Engineer - Australia's #1 Home Loa...</td>\n",
       "      <td>[]</td>\n",
       "      <td>location: Sydney</td>\n",
       "      <td>Lendi is looking for a senior data engineer wi...</td>\n",
       "    </tr>\n",
       "    <tr>\n",
       "      <td>1</td>\n",
       "      <td>Associate Partner - Cloud Strategy</td>\n",
       "      <td>[]</td>\n",
       "      <td>location: Sydney</td>\n",
       "      <td>The convergence of social, mobile, cloud, big ...</td>\n",
       "    </tr>\n",
       "    <tr>\n",
       "      <td>2</td>\n",
       "      <td>Data Analyst</td>\n",
       "      <td>[[$100k - $110k p.a. + Super + Benefits]]</td>\n",
       "      <td>location: Sydney</td>\n",
       "      <td>This role is ideal for someone who enjoys auto...</td>\n",
       "    </tr>\n",
       "    <tr>\n",
       "      <td>3</td>\n",
       "      <td>Data Analyst</td>\n",
       "      <td>[[$90k - $105k p.a. + Super + Benefits]]</td>\n",
       "      <td>location: Sydney</td>\n",
       "      <td>Work with a market leader in the technology se...</td>\n",
       "    </tr>\n",
       "    <tr>\n",
       "      <td>4</td>\n",
       "      <td>Data Analyst</td>\n",
       "      <td>[]</td>\n",
       "      <td>location: Sydney</td>\n",
       "      <td>3 month initial contract with view to extend. ...</td>\n",
       "    </tr>\n",
       "    <tr>\n",
       "      <td>...</td>\n",
       "      <td>...</td>\n",
       "      <td>...</td>\n",
       "      <td>...</td>\n",
       "      <td>...</td>\n",
       "    </tr>\n",
       "    <tr>\n",
       "      <td>2611</td>\n",
       "      <td>Admin/ Data Entry</td>\n",
       "      <td>[]</td>\n",
       "      <td>location: Sydney</td>\n",
       "      <td>Looking for someone who is willing to learn a ...</td>\n",
       "    </tr>\n",
       "    <tr>\n",
       "      <td>2612</td>\n",
       "      <td>Business Intelligence Analyst</td>\n",
       "      <td>[]</td>\n",
       "      <td>location: Sydney</td>\n",
       "      <td>A genuinely exciting and versatile role workin...</td>\n",
       "    </tr>\n",
       "    <tr>\n",
       "      <td>2613</td>\n",
       "      <td>Associate Data Collection Specialist</td>\n",
       "      <td>[]</td>\n",
       "      <td>location: Sydney</td>\n",
       "      <td>An Associate Data Collection Specialist is res...</td>\n",
       "    </tr>\n",
       "    <tr>\n",
       "      <td>2614</td>\n",
       "      <td>Reporting Analyst</td>\n",
       "      <td>[]</td>\n",
       "      <td>location: Sydney</td>\n",
       "      <td>Due to securing new business supporting Austra...</td>\n",
       "    </tr>\n",
       "    <tr>\n",
       "      <td>2615</td>\n",
       "      <td>Clinical Research Data Officer</td>\n",
       "      <td>[]</td>\n",
       "      <td>location: Sydney</td>\n",
       "      <td>Sydney Children's Hospitals Network is the lar...</td>\n",
       "    </tr>\n",
       "  </tbody>\n",
       "</table>\n",
       "<p>2616 rows × 4 columns</p>\n",
       "</div>"
      ],
      "text/plain": [
       "                                              job_title  \\\n",
       "0     Senior Data Engineer - Australia's #1 Home Loa...   \n",
       "1                    Associate Partner - Cloud Strategy   \n",
       "2                                          Data Analyst   \n",
       "3                                          Data Analyst   \n",
       "4                                          Data Analyst   \n",
       "...                                                 ...   \n",
       "2611                                  Admin/ Data Entry   \n",
       "2612                      Business Intelligence Analyst   \n",
       "2613               Associate Data Collection Specialist   \n",
       "2614                                  Reporting Analyst   \n",
       "2615                     Clinical Research Data Officer   \n",
       "\n",
       "                                     job_Salary      job_Location  \\\n",
       "0                                            []  location: Sydney   \n",
       "1                                            []  location: Sydney   \n",
       "2     [[$100k - $110k p.a. + Super + Benefits]]  location: Sydney   \n",
       "3      [[$90k - $105k p.a. + Super + Benefits]]  location: Sydney   \n",
       "4                                            []  location: Sydney   \n",
       "...                                         ...               ...   \n",
       "2611                                         []  location: Sydney   \n",
       "2612                                         []  location: Sydney   \n",
       "2613                                         []  location: Sydney   \n",
       "2614                                         []  location: Sydney   \n",
       "2615                                         []  location: Sydney   \n",
       "\n",
       "                                        job_Description  \n",
       "0     Lendi is looking for a senior data engineer wi...  \n",
       "1     The convergence of social, mobile, cloud, big ...  \n",
       "2     This role is ideal for someone who enjoys auto...  \n",
       "3     Work with a market leader in the technology se...  \n",
       "4     3 month initial contract with view to extend. ...  \n",
       "...                                                 ...  \n",
       "2611  Looking for someone who is willing to learn a ...  \n",
       "2612  A genuinely exciting and versatile role workin...  \n",
       "2613  An Associate Data Collection Specialist is res...  \n",
       "2614  Due to securing new business supporting Austra...  \n",
       "2615  Sydney Children's Hospitals Network is the lar...  \n",
       "\n",
       "[2616 rows x 4 columns]"
      ]
     },
     "execution_count": 23,
     "metadata": {},
     "output_type": "execute_result"
    }
   ],
   "source": [
    "df_data\n"
   ]
  },
  {
   "cell_type": "code",
   "execution_count": 24,
   "metadata": {},
   "outputs": [
    {
     "data": {
      "text/plain": [
       "0                                           NaN\n",
       "1                                           NaN\n",
       "2       [$100k - $110k p.a. + Super + Benefits]\n",
       "3        [$90k - $105k p.a. + Super + Benefits]\n",
       "4                                           NaN\n",
       "                         ...                   \n",
       "2611                                        NaN\n",
       "2612                                        NaN\n",
       "2613                                        NaN\n",
       "2614                                        NaN\n",
       "2615                                        NaN\n",
       "Name: job_Salary, Length: 2616, dtype: object"
      ]
     },
     "execution_count": 24,
     "metadata": {},
     "output_type": "execute_result"
    }
   ],
   "source": [
    "import numpy as np\n",
    "def get_sal(x): \n",
    "    try: \n",
    "        return x[0] \n",
    "    except:\n",
    "        return np.nan\n",
    "    \n",
    "df_data['job_Salary'].apply(get_sal)\n",
    "\n"
   ]
  },
  {
   "cell_type": "code",
   "execution_count": 25,
   "metadata": {},
   "outputs": [
    {
     "data": {
      "text/html": [
       "<div>\n",
       "<style scoped>\n",
       "    .dataframe tbody tr th:only-of-type {\n",
       "        vertical-align: middle;\n",
       "    }\n",
       "\n",
       "    .dataframe tbody tr th {\n",
       "        vertical-align: top;\n",
       "    }\n",
       "\n",
       "    .dataframe thead th {\n",
       "        text-align: right;\n",
       "    }\n",
       "</style>\n",
       "<table border=\"1\" class=\"dataframe\">\n",
       "  <thead>\n",
       "    <tr style=\"text-align: right;\">\n",
       "      <th></th>\n",
       "      <th>job_title</th>\n",
       "      <th>job_Salary</th>\n",
       "      <th>job_Location</th>\n",
       "      <th>job_Description</th>\n",
       "    </tr>\n",
       "  </thead>\n",
       "  <tbody>\n",
       "    <tr>\n",
       "      <td>0</td>\n",
       "      <td>Senior Data Engineer - Australia's #1 Home Loa...</td>\n",
       "      <td>[]</td>\n",
       "      <td>location: Sydney</td>\n",
       "      <td>Lendi is looking for a senior data engineer wi...</td>\n",
       "    </tr>\n",
       "    <tr>\n",
       "      <td>1</td>\n",
       "      <td>Associate Partner - Cloud Strategy</td>\n",
       "      <td>[]</td>\n",
       "      <td>location: Sydney</td>\n",
       "      <td>The convergence of social, mobile, cloud, big ...</td>\n",
       "    </tr>\n",
       "    <tr>\n",
       "      <td>2</td>\n",
       "      <td>Data Analyst</td>\n",
       "      <td>[[$100k - $110k p.a. + Super + Benefits]]</td>\n",
       "      <td>location: Sydney</td>\n",
       "      <td>This role is ideal for someone who enjoys auto...</td>\n",
       "    </tr>\n",
       "    <tr>\n",
       "      <td>3</td>\n",
       "      <td>Data Analyst</td>\n",
       "      <td>[[$90k - $105k p.a. + Super + Benefits]]</td>\n",
       "      <td>location: Sydney</td>\n",
       "      <td>Work with a market leader in the technology se...</td>\n",
       "    </tr>\n",
       "    <tr>\n",
       "      <td>4</td>\n",
       "      <td>Data Analyst</td>\n",
       "      <td>[]</td>\n",
       "      <td>location: Sydney</td>\n",
       "      <td>3 month initial contract with view to extend. ...</td>\n",
       "    </tr>\n",
       "  </tbody>\n",
       "</table>\n",
       "</div>"
      ],
      "text/plain": [
       "                                           job_title  \\\n",
       "0  Senior Data Engineer - Australia's #1 Home Loa...   \n",
       "1                 Associate Partner - Cloud Strategy   \n",
       "2                                       Data Analyst   \n",
       "3                                       Data Analyst   \n",
       "4                                       Data Analyst   \n",
       "\n",
       "                                  job_Salary      job_Location  \\\n",
       "0                                         []  location: Sydney   \n",
       "1                                         []  location: Sydney   \n",
       "2  [[$100k - $110k p.a. + Super + Benefits]]  location: Sydney   \n",
       "3   [[$90k - $105k p.a. + Super + Benefits]]  location: Sydney   \n",
       "4                                         []  location: Sydney   \n",
       "\n",
       "                                     job_Description  \n",
       "0  Lendi is looking for a senior data engineer wi...  \n",
       "1  The convergence of social, mobile, cloud, big ...  \n",
       "2  This role is ideal for someone who enjoys auto...  \n",
       "3  Work with a market leader in the technology se...  \n",
       "4  3 month initial contract with view to extend. ...  "
      ]
     },
     "execution_count": 25,
     "metadata": {},
     "output_type": "execute_result"
    }
   ],
   "source": [
    "df_data.head()"
   ]
  },
  {
   "cell_type": "code",
   "execution_count": null,
   "metadata": {},
   "outputs": [],
   "source": []
  },
  {
   "cell_type": "code",
   "execution_count": 14,
   "metadata": {},
   "outputs": [
    {
     "ename": "AttributeError",
     "evalue": "'DataFrame' object has no attribute 'Reward'",
     "output_type": "error",
     "traceback": [
      "\u001b[0;31m---------------------------------------------------------------------------\u001b[0m",
      "\u001b[0;31mAttributeError\u001b[0m                            Traceback (most recent call last)",
      "\u001b[0;32m<ipython-input-14-50331eb2abf5>\u001b[0m in \u001b[0;36m<module>\u001b[0;34m\u001b[0m\n\u001b[0;32m----> 1\u001b[0;31m \u001b[0mhigh_sal\u001b[0m \u001b[0;34m=\u001b[0m \u001b[0mdf_data\u001b[0m\u001b[0;34m.\u001b[0m\u001b[0mReward\u001b[0m\u001b[0;34m.\u001b[0m\u001b[0mstr\u001b[0m\u001b[0;34m.\u001b[0m\u001b[0mextractall\u001b[0m\u001b[0;34m(\u001b[0m\u001b[0mpat\u001b[0m\u001b[0;34m=\u001b[0m\u001b[0;34m\"\\$?(\\d+,\\d+)\"\u001b[0m\u001b[0;34m)\u001b[0m\u001b[0;34m.\u001b[0m\u001b[0munstack\u001b[0m\u001b[0;34m(\u001b[0m\u001b[0;34m)\u001b[0m\u001b[0;34m\u001b[0m\u001b[0;34m\u001b[0m\u001b[0m\n\u001b[0m\u001b[1;32m      2\u001b[0m \u001b[0mhigh_sal\u001b[0m\u001b[0;34m\u001b[0m\u001b[0;34m\u001b[0m\u001b[0m\n\u001b[1;32m      3\u001b[0m \u001b[0mdf_data\u001b[0m\u001b[0;34m.\u001b[0m\u001b[0mReward\u001b[0m\u001b[0;34m.\u001b[0m\u001b[0mdrop\u001b[0m\u001b[0;34m(\u001b[0m\u001b[0mindex\u001b[0m\u001b[0;34m=\u001b[0m\u001b[0mhigh_sal\u001b[0m\u001b[0;34m.\u001b[0m\u001b[0mindex\u001b[0m\u001b[0;34m)\u001b[0m\u001b[0;34m\u001b[0m\u001b[0;34m\u001b[0m\u001b[0m\n\u001b[1;32m      4\u001b[0m \u001b[0msalary_pa\u001b[0m \u001b[0;34m=\u001b[0m \u001b[0mdf_data\u001b[0m\u001b[0;34m.\u001b[0m\u001b[0mReward\u001b[0m\u001b[0;34m.\u001b[0m\u001b[0mstr\u001b[0m\u001b[0;34m.\u001b[0m\u001b[0mextractall\u001b[0m\u001b[0;34m(\u001b[0m\u001b[0mpat\u001b[0m\u001b[0;34m=\u001b[0m\u001b[0;34m\"(\\d+)k\"\u001b[0m\u001b[0;34m)\u001b[0m\u001b[0;34m.\u001b[0m\u001b[0munstack\u001b[0m\u001b[0;34m(\u001b[0m\u001b[0;34m)\u001b[0m\u001b[0;34m\u001b[0m\u001b[0;34m\u001b[0m\u001b[0m\n\u001b[1;32m      5\u001b[0m \u001b[0msalary_pa\u001b[0m\u001b[0;34m\u001b[0m\u001b[0;34m\u001b[0m\u001b[0m\n",
      "\u001b[0;32m/opt/anaconda3/lib/python3.7/site-packages/pandas/core/generic.py\u001b[0m in \u001b[0;36m__getattr__\u001b[0;34m(self, name)\u001b[0m\n\u001b[1;32m   5177\u001b[0m             \u001b[0;32mif\u001b[0m \u001b[0mself\u001b[0m\u001b[0;34m.\u001b[0m\u001b[0m_info_axis\u001b[0m\u001b[0;34m.\u001b[0m\u001b[0m_can_hold_identifiers_and_holds_name\u001b[0m\u001b[0;34m(\u001b[0m\u001b[0mname\u001b[0m\u001b[0;34m)\u001b[0m\u001b[0;34m:\u001b[0m\u001b[0;34m\u001b[0m\u001b[0;34m\u001b[0m\u001b[0m\n\u001b[1;32m   5178\u001b[0m                 \u001b[0;32mreturn\u001b[0m \u001b[0mself\u001b[0m\u001b[0;34m[\u001b[0m\u001b[0mname\u001b[0m\u001b[0;34m]\u001b[0m\u001b[0;34m\u001b[0m\u001b[0;34m\u001b[0m\u001b[0m\n\u001b[0;32m-> 5179\u001b[0;31m             \u001b[0;32mreturn\u001b[0m \u001b[0mobject\u001b[0m\u001b[0;34m.\u001b[0m\u001b[0m__getattribute__\u001b[0m\u001b[0;34m(\u001b[0m\u001b[0mself\u001b[0m\u001b[0;34m,\u001b[0m \u001b[0mname\u001b[0m\u001b[0;34m)\u001b[0m\u001b[0;34m\u001b[0m\u001b[0;34m\u001b[0m\u001b[0m\n\u001b[0m\u001b[1;32m   5180\u001b[0m \u001b[0;34m\u001b[0m\u001b[0m\n\u001b[1;32m   5181\u001b[0m     \u001b[0;32mdef\u001b[0m \u001b[0m__setattr__\u001b[0m\u001b[0;34m(\u001b[0m\u001b[0mself\u001b[0m\u001b[0;34m,\u001b[0m \u001b[0mname\u001b[0m\u001b[0;34m,\u001b[0m \u001b[0mvalue\u001b[0m\u001b[0;34m)\u001b[0m\u001b[0;34m:\u001b[0m\u001b[0;34m\u001b[0m\u001b[0;34m\u001b[0m\u001b[0m\n",
      "\u001b[0;31mAttributeError\u001b[0m: 'DataFrame' object has no attribute 'Reward'"
     ]
    }
   ],
   "source": [
    "high_sal = df_data.Reward.str.extractall(pat=\"\\$?(\\d+,\\d+)\").unstack()\n",
    "high_sal\n",
    "df_data.Reward.drop(index=high_sal.index)\n",
    "salary_pa = df_data.Reward.str.extractall(pat=\"(\\d+)k\").unstack()\n",
    "salary_pa\n",
    "df_data.Reward.loc[560]\n",
    "high_sal.index.append(salary_pa.index)\n",
    "df_data.Reward.drop(index=high_sal.index.append(salary_pa.index))\n",
    "salary_ks = df_data.Reward.str.extractall(pat=\"\\$(\\d+).\\-.(\\d+)\").unstack()\n",
    "salary_ks\n",
    "salary_ks.index.intersection(high_sal.index)\n",
    "salary_ks.index.intersection(salary_pa.index)\n",
    "df_data.Reward.iloc[387]\n",
    "df_data.Reward.drop(index=high_sal.index.append(salary_pa.index).append(salary_ks.index))"
   ]
  },
  {
   "cell_type": "code",
   "execution_count": null,
   "metadata": {},
   "outputs": [],
   "source": []
  },
  {
   "cell_type": "code",
   "execution_count": null,
   "metadata": {},
   "outputs": [],
   "source": []
  },
  {
   "cell_type": "code",
   "execution_count": null,
   "metadata": {},
   "outputs": [],
   "source": []
  },
  {
   "cell_type": "code",
   "execution_count": null,
   "metadata": {},
   "outputs": [],
   "source": []
  },
  {
   "cell_type": "code",
   "execution_count": null,
   "metadata": {},
   "outputs": [],
   "source": []
  },
  {
   "cell_type": "code",
   "execution_count": null,
   "metadata": {},
   "outputs": [],
   "source": []
  },
  {
   "cell_type": "code",
   "execution_count": null,
   "metadata": {},
   "outputs": [],
   "source": []
  }
 ],
 "metadata": {
  "kernelspec": {
   "display_name": "Python 3",
   "language": "python",
   "name": "python3"
  },
  "language_info": {
   "codemirror_mode": {
    "name": "ipython",
    "version": 3
   },
   "file_extension": ".py",
   "mimetype": "text/x-python",
   "name": "python",
   "nbconvert_exporter": "python",
   "pygments_lexer": "ipython3",
   "version": "3.7.4"
  }
 },
 "nbformat": 4,
 "nbformat_minor": 2
}
